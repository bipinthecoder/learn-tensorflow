{
  "nbformat": 4,
  "nbformat_minor": 0,
  "metadata": {
    "colab": {
      "name": "TensorFlow1.ipynb",
      "provenance": [],
      "authorship_tag": "ABX9TyM3pc63D4w/OvncF5J0KpAN",
      "include_colab_link": true
    },
    "kernelspec": {
      "name": "python3",
      "display_name": "Python 3"
    },
    "language_info": {
      "name": "python"
    }
  },
  "cells": [
    {
      "cell_type": "markdown",
      "metadata": {
        "id": "view-in-github",
        "colab_type": "text"
      },
      "source": [
        "<a href=\"https://colab.research.google.com/github/bipinthecoder/learn-tensorflow/blob/main/TensorFlow1.ipynb\" target=\"_parent\"><img src=\"https://colab.research.google.com/assets/colab-badge.svg\" alt=\"Open In Colab\"/></a>"
      ]
    },
    {
      "cell_type": "code",
      "execution_count": null,
      "metadata": {
        "id": "cG1LcFhXeLgC"
      },
      "outputs": [],
      "source": [
        "import tensorflow as tf"
      ]
    },
    {
      "cell_type": "markdown",
      "source": [
        "Creating a Tensor\n"
      ],
      "metadata": {
        "id": "jLJFvkRkewFS"
      }
    },
    {
      "cell_type": "code",
      "source": [
        "x = tf.constant([[1., 2., 3.],[4., 5., 6.]])\n",
        "\n",
        "print(x)\n",
        "print(x.shape)\n",
        "print(x.dtype)\n"
      ],
      "metadata": {
        "colab": {
          "base_uri": "https://localhost:8080/"
        },
        "id": "qAE88IVUe7MY",
        "outputId": "2fad1aa7-6cc6-4a56-956a-7a629c661f8f"
      },
      "execution_count": null,
      "outputs": [
        {
          "output_type": "stream",
          "name": "stdout",
          "text": [
            "tf.Tensor(\n",
            "[[1. 2. 3.]\n",
            " [4. 5. 6.]], shape=(2, 3), dtype=float32)\n",
            "(2, 3)\n",
            "<dtype: 'float32'>\n"
          ]
        }
      ]
    },
    {
      "cell_type": "markdown",
      "source": [
        "Normal tf.Tensorobjects are immutable. To store model weights (or other mutable state) in TensorFlow use a tf.Variable."
      ],
      "metadata": {
        "id": "4Q2avxwAfE1q"
      }
    },
    {
      "cell_type": "code",
      "source": [
        "var = tf.Variable([0.0, 0.0, 0.0])\n",
        "var.assign([1, 2, 3])"
      ],
      "metadata": {
        "colab": {
          "base_uri": "https://localhost:8080/"
        },
        "id": "5lbmrwG6fMF7",
        "outputId": "473266cb-9f62-41ff-8f8d-a3d7163f5bac"
      },
      "execution_count": null,
      "outputs": [
        {
          "output_type": "execute_result",
          "data": {
            "text/plain": [
              "<tf.Variable 'UnreadVariable' shape=(3,) dtype=float32, numpy=array([1., 2., 3.], dtype=float32)>"
            ]
          },
          "metadata": {},
          "execution_count": 5
        }
      ]
    },
    {
      "cell_type": "markdown",
      "source": [
        "We can mention datatype explicitly in the Variable function:"
      ],
      "metadata": {
        "id": "fhGmeLd-fStC"
      }
    },
    {
      "cell_type": "code",
      "source": [
        "string_var = tf.Variable(\"This is a string\", tf.string)\n",
        "number_var = tf.Variable(165, tf.int16)\n",
        "floating_var = tf.Variable(165.32, tf.float64)"
      ],
      "metadata": {
        "id": "nz49eEMhfWaa"
      },
      "execution_count": null,
      "outputs": []
    },
    {
      "cell_type": "markdown",
      "source": [
        "Performing Operations:"
      ],
      "metadata": {
        "id": "UjMUftO7fh_e"
      }
    },
    {
      "cell_type": "code",
      "source": [
        "var.assign([1, 2, 3])\n",
        "var.assign_add([1, 1, 1])"
      ],
      "metadata": {
        "colab": {
          "base_uri": "https://localhost:8080/"
        },
        "id": "g4JiYgykflt9",
        "outputId": "3382b5db-aca2-40c3-9c3e-9721f8ecb733"
      },
      "execution_count": null,
      "outputs": [
        {
          "output_type": "execute_result",
          "data": {
            "text/plain": [
              "<tf.Variable 'UnreadVariable' shape=(3,) dtype=float32, numpy=array([2., 3., 4.], dtype=float32)>"
            ]
          },
          "metadata": {},
          "execution_count": 7
        }
      ]
    },
    {
      "cell_type": "markdown",
      "source": [
        "Rank/Degree of Tensor: It describes the number of dimesnions. If dimesnions are 0, it is scalar otherwise it is a vector"
      ],
      "metadata": {
        "id": "aSnVPApKjvtf"
      }
    },
    {
      "cell_type": "code",
      "source": [
        "rank1_tensor = tf.Variable([[\"Bipin\",\"Babu\"]], tf.string)\n",
        "rank2_tensor = tf.Variable([[\"One\", \"Two\",\"Three\"], [\"Four\",\"Five\",\"Six\"]], tf.string)"
      ],
      "metadata": {
        "id": "z4dNV8uAj7WJ"
      },
      "execution_count": null,
      "outputs": []
    },
    {
      "cell_type": "code",
      "source": [
        "tf.rank(rank1_tensor)"
      ],
      "metadata": {
        "colab": {
          "base_uri": "https://localhost:8080/"
        },
        "id": "SP2DwSsBkoeD",
        "outputId": "6ddd4046-9c9e-4f83-a96f-32726211d713"
      },
      "execution_count": null,
      "outputs": [
        {
          "output_type": "execute_result",
          "data": {
            "text/plain": [
              "<tf.Tensor: shape=(), dtype=int32, numpy=2>"
            ]
          },
          "metadata": {},
          "execution_count": 9
        }
      ]
    },
    {
      "cell_type": "code",
      "source": [
        "tf.rank(rank2_tensor)"
      ],
      "metadata": {
        "colab": {
          "base_uri": "https://localhost:8080/"
        },
        "id": "ZWQg2355ktxk",
        "outputId": "07144410-b5b7-4b4b-f300-a983b10ec827"
      },
      "execution_count": null,
      "outputs": [
        {
          "output_type": "execute_result",
          "data": {
            "text/plain": [
              "<tf.Tensor: shape=(), dtype=int32, numpy=3>"
            ]
          },
          "metadata": {},
          "execution_count": 10
        }
      ]
    },
    {
      "cell_type": "code",
      "source": [
        "tf.rank(string_var)"
      ],
      "metadata": {
        "colab": {
          "base_uri": "https://localhost:8080/"
        },
        "id": "cTeInVyckzhN",
        "outputId": "e758c7a0-ddb9-4513-db00-17cd4319725b"
      },
      "execution_count": null,
      "outputs": [
        {
          "output_type": "execute_result",
          "data": {
            "text/plain": [
              "<tf.Tensor: shape=(), dtype=int32, numpy=0>"
            ]
          },
          "metadata": {},
          "execution_count": 11
        }
      ]
    },
    {
      "cell_type": "code",
      "source": [
        "rank2_tensor.shape"
      ],
      "metadata": {
        "colab": {
          "base_uri": "https://localhost:8080/"
        },
        "id": "iFKXo5q2pewQ",
        "outputId": "a54558ae-a29d-4154-f935-0febf3aae31a"
      },
      "execution_count": null,
      "outputs": [
        {
          "output_type": "execute_result",
          "data": {
            "text/plain": [
              "TensorShape([2, 3])"
            ]
          },
          "metadata": {},
          "execution_count": 14
        }
      ]
    },
    {
      "cell_type": "markdown",
      "source": [
        "Reshaping Tensors:\n",
        "\n",
        "When reshaping, the number of elements remain the same, just the dimensions change. also when the shape figures are multiplied it gives the total number of elements."
      ],
      "metadata": {
        "id": "NnsC5GdPhlcl"
      }
    },
    {
      "cell_type": "code",
      "source": [
        "tensor1 = tf.ones([1,2,3])\n",
        "tensor2 = tf.reshape(tensor1, [2,3,1])\n",
        "tensor3 = tf.reshape(tensor2, [3, -1])"
      ],
      "metadata": {
        "id": "9oaly5GQh0TT"
      },
      "execution_count": null,
      "outputs": []
    },
    {
      "cell_type": "markdown",
      "source": [
        "-1 here aks the tensor to complete the dimesnion in that place automatically for us"
      ],
      "metadata": {
        "id": "TZhgs_Gekmaz"
      }
    },
    {
      "cell_type": "code",
      "source": [
        "print(tensor1)\n",
        "print(tensor2)\n",
        "print(tensor3)"
      ],
      "metadata": {
        "colab": {
          "base_uri": "https://localhost:8080/"
        },
        "id": "gywmNUHnh4dN",
        "outputId": "a8e951b6-d071-4b55-e252-ed3805b23bdb"
      },
      "execution_count": null,
      "outputs": [
        {
          "output_type": "stream",
          "name": "stdout",
          "text": [
            "tf.Tensor(\n",
            "[[[1. 1. 1.]\n",
            "  [1. 1. 1.]]], shape=(1, 2, 3), dtype=float32)\n",
            "tf.Tensor(\n",
            "[[[1.]\n",
            "  [1.]\n",
            "  [1.]]\n",
            "\n",
            " [[1.]\n",
            "  [1.]\n",
            "  [1.]]], shape=(2, 3, 1), dtype=float32)\n",
            "tf.Tensor(\n",
            "[[1. 1.]\n",
            " [1. 1.]\n",
            " [1. 1.]], shape=(3, 2), dtype=float32)\n"
          ]
        }
      ]
    },
    {
      "cell_type": "markdown",
      "source": [
        "Types of Tensors\n",
        "- Variable - Mutable\n",
        "- Constant - Immutable\n",
        "- Placeholder - Immutable\n",
        "- SparseTensor - Immutable"
      ],
      "metadata": {
        "id": "ZRyqFgBilTuE"
      }
    },
    {
      "cell_type": "markdown",
      "source": [
        "Evaluate a Tensor:\n",
        "Sometimes we need to evaluate a tensor, which means by finding its value. Since Tensors are partially complete computations, we have to run a session to evaluate the tensor"
      ],
      "metadata": {
        "id": "AR1qAytAmUh9"
      }
    },
    {
      "cell_type": "code",
      "source": [
        "# with tf.Session() as sess\n",
        "#   tensor_name.eval()"
      ],
      "metadata": {
        "id": "pFY1qQoFmTrD"
      },
      "execution_count": null,
      "outputs": []
    }
  ]
}