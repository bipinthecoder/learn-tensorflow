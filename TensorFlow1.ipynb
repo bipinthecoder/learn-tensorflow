{
  "nbformat": 4,
  "nbformat_minor": 0,
  "metadata": {
    "colab": {
      "name": "TensorFlow1.ipynb",
      "provenance": [],
      "authorship_tag": "ABX9TyMT3uJkJhnQ01/TgMubtu/c",
      "include_colab_link": true
    },
    "kernelspec": {
      "name": "python3",
      "display_name": "Python 3"
    },
    "language_info": {
      "name": "python"
    }
  },
  "cells": [
    {
      "cell_type": "markdown",
      "metadata": {
        "id": "view-in-github",
        "colab_type": "text"
      },
      "source": [
        "<a href=\"https://colab.research.google.com/github/bipinthecoder/learn-tensorflow/blob/main/TensorFlow1.ipynb\" target=\"_parent\"><img src=\"https://colab.research.google.com/assets/colab-badge.svg\" alt=\"Open In Colab\"/></a>"
      ]
    },
    {
      "cell_type": "markdown",
      "source": [
        "https://www.tensorflow.org/guide/basics\n"
      ],
      "metadata": {
        "id": "Qr8LDrBVtMAF"
      }
    },
    {
      "cell_type": "code",
      "execution_count": 2,
      "metadata": {
        "id": "cG1LcFhXeLgC"
      },
      "outputs": [],
      "source": [
        "import tensorflow as tf\n",
        "import numpy as np\n"
      ]
    },
    {
      "cell_type": "markdown",
      "source": [
        "Creating a Tensor\n"
      ],
      "metadata": {
        "id": "jLJFvkRkewFS"
      }
    },
    {
      "cell_type": "code",
      "source": [
        "x = tf.constant([[1., 2., 3.],[4., 5., 6.]])\n",
        "\n",
        "print(x)\n",
        "print(x.shape)\n",
        "print(x.dtype)\n"
      ],
      "metadata": {
        "colab": {
          "base_uri": "https://localhost:8080/"
        },
        "id": "qAE88IVUe7MY",
        "outputId": "4c2214a0-53c7-46b7-e033-b8cb732c38a5"
      },
      "execution_count": null,
      "outputs": [
        {
          "output_type": "stream",
          "name": "stdout",
          "text": [
            "tf.Tensor(\n",
            "[[1. 2. 3.]\n",
            " [4. 5. 6.]], shape=(2, 3), dtype=float32)\n",
            "(2, 3)\n",
            "<dtype: 'float32'>\n"
          ]
        }
      ]
    },
    {
      "cell_type": "markdown",
      "source": [
        "**A \"scalar\" or \"rank-0\" tensor contains a single value, and no \"axes\".**"
      ],
      "metadata": {
        "id": "oj1oCQMtkxVd"
      }
    },
    {
      "cell_type": "code",
      "source": [
        "rank_0_tensor = tf.constant(4)\n",
        "print(rank_0_tensor)\n"
      ],
      "metadata": {
        "colab": {
          "base_uri": "https://localhost:8080/"
        },
        "id": "hYYXKOmfk5L7",
        "outputId": "da20f0dd-e5c7-4768-8260-d065f7464b4e"
      },
      "execution_count": 3,
      "outputs": [
        {
          "output_type": "stream",
          "name": "stdout",
          "text": [
            "tf.Tensor(4, shape=(), dtype=int32)\n"
          ]
        }
      ]
    },
    {
      "cell_type": "markdown",
      "source": [
        "**A \"vector\" or \"rank-1\" tensor is like a list of values. A vector has one axis:**\n",
        "\n"
      ],
      "metadata": {
        "id": "3AOnR87qmRHp"
      }
    },
    {
      "cell_type": "code",
      "source": [
        "rank_1_tensor = tf.constant([2.0, 3.0, 4.0])\n",
        "print(rank_1_tensor)"
      ],
      "metadata": {
        "colab": {
          "base_uri": "https://localhost:8080/"
        },
        "id": "CKugN5a2mVr3",
        "outputId": "589d4acc-331d-451a-bc12-792eaf4ba99b"
      },
      "execution_count": 4,
      "outputs": [
        {
          "output_type": "stream",
          "name": "stdout",
          "text": [
            "tf.Tensor([2. 3. 4.], shape=(3,), dtype=float32)\n"
          ]
        }
      ]
    },
    {
      "cell_type": "markdown",
      "source": [
        "**A \"matrix\" or \"rank-2\" tensor has two axes:**"
      ],
      "metadata": {
        "id": "iFRqLKphm9NG"
      }
    },
    {
      "cell_type": "code",
      "source": [
        "rank_2_tensor = tf.constant([[1, 2],\n",
        "                             [3, 4],\n",
        "                             [5, 6]], dtype=tf.float16)\n",
        "print(rank_2_tensor)\n"
      ],
      "metadata": {
        "colab": {
          "base_uri": "https://localhost:8080/"
        },
        "id": "l_gG27g1nB83",
        "outputId": "62658977-fc2b-418a-d7ca-df584c893075"
      },
      "execution_count": 5,
      "outputs": [
        {
          "output_type": "stream",
          "name": "stdout",
          "text": [
            "tf.Tensor(\n",
            "[[1. 2.]\n",
            " [3. 4.]\n",
            " [5. 6.]], shape=(3, 2), dtype=float16)\n"
          ]
        }
      ]
    },
    {
      "cell_type": "markdown",
      "source": [
        "**convert a tensor to a NumPy array**"
      ],
      "metadata": {
        "id": "TL8IYYqgvDUr"
      }
    },
    {
      "cell_type": "markdown",
      "source": [
        " - either using np.array() \n",
        " - or the tensor.numpy method"
      ],
      "metadata": {
        "id": "TYj57b1AvIjI"
      }
    },
    {
      "cell_type": "code",
      "source": [
        "np.array(rank_2_tensor)\n"
      ],
      "metadata": {
        "colab": {
          "base_uri": "https://localhost:8080/"
        },
        "id": "qE-rnEWnvE5I",
        "outputId": "b32ea216-b6dc-467a-ec64-eaa875658f99"
      },
      "execution_count": 8,
      "outputs": [
        {
          "output_type": "execute_result",
          "data": {
            "text/plain": [
              "array([[1., 2.],\n",
              "       [3., 4.],\n",
              "       [5., 6.]], dtype=float16)"
            ]
          },
          "metadata": {},
          "execution_count": 8
        }
      ]
    },
    {
      "cell_type": "code",
      "source": [
        "rank_2_tensor.numpy()"
      ],
      "metadata": {
        "colab": {
          "base_uri": "https://localhost:8080/"
        },
        "id": "8EIQ-L3gvTaL",
        "outputId": "c244f744-e391-4a48-c3dd-851c9727450a"
      },
      "execution_count": 9,
      "outputs": [
        {
          "output_type": "execute_result",
          "data": {
            "text/plain": [
              "array([[1., 2.],\n",
              "       [3., 4.],\n",
              "       [5., 6.]], dtype=float16)"
            ]
          },
          "metadata": {},
          "execution_count": 9
        }
      ]
    },
    {
      "cell_type": "markdown",
      "source": [
        "**Normal tf.Tensorobjects are immutable. To store model weights (or other mutable state) in TensorFlow use a tf.Variable.**"
      ],
      "metadata": {
        "id": "4Q2avxwAfE1q"
      }
    },
    {
      "cell_type": "code",
      "source": [
        "var = tf.Variable([0.0, 0.0, 0.0])\n",
        "var.assign([1, 2, 3])"
      ],
      "metadata": {
        "colab": {
          "base_uri": "https://localhost:8080/"
        },
        "id": "5lbmrwG6fMF7",
        "outputId": "80faafde-b53f-448e-d897-ccefdff4781e"
      },
      "execution_count": null,
      "outputs": [
        {
          "output_type": "execute_result",
          "data": {
            "text/plain": [
              "<tf.Variable 'UnreadVariable' shape=(3,) dtype=float32, numpy=array([1., 2., 3.], dtype=float32)>"
            ]
          },
          "metadata": {},
          "execution_count": 4
        }
      ]
    },
    {
      "cell_type": "markdown",
      "source": [
        "We can mention datatype explicitly in the Variable function:"
      ],
      "metadata": {
        "id": "fhGmeLd-fStC"
      }
    },
    {
      "cell_type": "code",
      "source": [
        "string_var = tf.Variable(\"This is a string\", dtype=tf.string)\n",
        "number_var = tf.Variable(165, dtype=tf.int16)\n",
        "floating_var = tf.Variable(165.32, dtype=tf.float64)"
      ],
      "metadata": {
        "id": "nz49eEMhfWaa"
      },
      "execution_count": 16,
      "outputs": []
    },
    {
      "cell_type": "code",
      "source": [
        "print(number_var)"
      ],
      "metadata": {
        "colab": {
          "base_uri": "https://localhost:8080/"
        },
        "id": "RElkG0uGvUBb",
        "outputId": "1dc1cc1c-d7d7-4c14-8f7a-511c31fbb12d"
      },
      "execution_count": 17,
      "outputs": [
        {
          "output_type": "stream",
          "name": "stdout",
          "text": [
            "<tf.Variable 'Variable:0' shape=() dtype=int16, numpy=165>\n"
          ]
        }
      ]
    },
    {
      "cell_type": "markdown",
      "source": [
        "Performing Operations:"
      ],
      "metadata": {
        "id": "UjMUftO7fh_e"
      }
    },
    {
      "cell_type": "code",
      "source": [
        "var.assign([1, 2, 3])\n",
        "var.assign_add([1, 1, 1])"
      ],
      "metadata": {
        "colab": {
          "base_uri": "https://localhost:8080/"
        },
        "id": "g4JiYgykflt9",
        "outputId": "3382b5db-aca2-40c3-9c3e-9721f8ecb733"
      },
      "execution_count": null,
      "outputs": [
        {
          "output_type": "execute_result",
          "data": {
            "text/plain": [
              "<tf.Variable 'UnreadVariable' shape=(3,) dtype=float32, numpy=array([2., 3., 4.], dtype=float32)>"
            ]
          },
          "metadata": {},
          "execution_count": 7
        }
      ]
    },
    {
      "cell_type": "markdown",
      "source": [
        "Rank/Degree of Tensor: It describes the number of dimesnions. If dimesnions are 0, it is scalar otherwise it is a vector"
      ],
      "metadata": {
        "id": "aSnVPApKjvtf"
      }
    },
    {
      "cell_type": "code",
      "source": [
        "rank1_tensor = tf.Variable([[\"Bipin\",\"Babu\"]], tf.string)\n",
        "rank2_tensor = tf.Variable([[\"One\", \"Two\",\"Three\"], [\"Four\",\"Five\",\"Six\"]], tf.string)"
      ],
      "metadata": {
        "id": "z4dNV8uAj7WJ"
      },
      "execution_count": null,
      "outputs": []
    },
    {
      "cell_type": "code",
      "source": [
        "tf.rank(rank1_tensor)"
      ],
      "metadata": {
        "colab": {
          "base_uri": "https://localhost:8080/"
        },
        "id": "SP2DwSsBkoeD",
        "outputId": "6ddd4046-9c9e-4f83-a96f-32726211d713"
      },
      "execution_count": null,
      "outputs": [
        {
          "output_type": "execute_result",
          "data": {
            "text/plain": [
              "<tf.Tensor: shape=(), dtype=int32, numpy=2>"
            ]
          },
          "metadata": {},
          "execution_count": 9
        }
      ]
    },
    {
      "cell_type": "code",
      "source": [
        "tf.rank(rank2_tensor)"
      ],
      "metadata": {
        "colab": {
          "base_uri": "https://localhost:8080/"
        },
        "id": "ZWQg2355ktxk",
        "outputId": "07144410-b5b7-4b4b-f300-a983b10ec827"
      },
      "execution_count": null,
      "outputs": [
        {
          "output_type": "execute_result",
          "data": {
            "text/plain": [
              "<tf.Tensor: shape=(), dtype=int32, numpy=3>"
            ]
          },
          "metadata": {},
          "execution_count": 10
        }
      ]
    },
    {
      "cell_type": "code",
      "source": [
        "tf.rank(string_var)"
      ],
      "metadata": {
        "colab": {
          "base_uri": "https://localhost:8080/"
        },
        "id": "cTeInVyckzhN",
        "outputId": "e758c7a0-ddb9-4513-db00-17cd4319725b"
      },
      "execution_count": null,
      "outputs": [
        {
          "output_type": "execute_result",
          "data": {
            "text/plain": [
              "<tf.Tensor: shape=(), dtype=int32, numpy=0>"
            ]
          },
          "metadata": {},
          "execution_count": 11
        }
      ]
    },
    {
      "cell_type": "code",
      "source": [
        "rank2_tensor.shape"
      ],
      "metadata": {
        "colab": {
          "base_uri": "https://localhost:8080/"
        },
        "id": "iFKXo5q2pewQ",
        "outputId": "a54558ae-a29d-4154-f935-0febf3aae31a"
      },
      "execution_count": null,
      "outputs": [
        {
          "output_type": "execute_result",
          "data": {
            "text/plain": [
              "TensorShape([2, 3])"
            ]
          },
          "metadata": {},
          "execution_count": 14
        }
      ]
    },
    {
      "cell_type": "markdown",
      "source": [
        "Reshaping Tensors:\n",
        "\n",
        "When reshaping, the number of elements remain the same, just the dimensions change. also when the shape figures are multiplied it gives the total number of elements."
      ],
      "metadata": {
        "id": "NnsC5GdPhlcl"
      }
    },
    {
      "cell_type": "code",
      "source": [
        "tensor1 = tf.ones([1,2,3])\n",
        "tensor2 = tf.reshape(tensor1, [2,3,1])\n",
        "tensor3 = tf.reshape(tensor2, [3, -1])"
      ],
      "metadata": {
        "id": "9oaly5GQh0TT"
      },
      "execution_count": null,
      "outputs": []
    },
    {
      "cell_type": "markdown",
      "source": [
        "-1 here aks the tensor to complete the dimesnion in that place automatically for us"
      ],
      "metadata": {
        "id": "TZhgs_Gekmaz"
      }
    },
    {
      "cell_type": "code",
      "source": [
        "print(tensor1)\n",
        "print(tensor2)\n",
        "print(tensor3)"
      ],
      "metadata": {
        "colab": {
          "base_uri": "https://localhost:8080/"
        },
        "id": "gywmNUHnh4dN",
        "outputId": "a8e951b6-d071-4b55-e252-ed3805b23bdb"
      },
      "execution_count": null,
      "outputs": [
        {
          "output_type": "stream",
          "name": "stdout",
          "text": [
            "tf.Tensor(\n",
            "[[[1. 1. 1.]\n",
            "  [1. 1. 1.]]], shape=(1, 2, 3), dtype=float32)\n",
            "tf.Tensor(\n",
            "[[[1.]\n",
            "  [1.]\n",
            "  [1.]]\n",
            "\n",
            " [[1.]\n",
            "  [1.]\n",
            "  [1.]]], shape=(2, 3, 1), dtype=float32)\n",
            "tf.Tensor(\n",
            "[[1. 1.]\n",
            " [1. 1.]\n",
            " [1. 1.]], shape=(3, 2), dtype=float32)\n"
          ]
        }
      ]
    },
    {
      "cell_type": "markdown",
      "source": [
        "Types of Tensors\n",
        "- Variable - Mutable\n",
        "- Constant - Immutable\n",
        "- Placeholder - Immutable\n",
        "- SparseTensor - Immutable"
      ],
      "metadata": {
        "id": "ZRyqFgBilTuE"
      }
    },
    {
      "cell_type": "markdown",
      "source": [
        "Evaluate a Tensor:\n",
        "Sometimes we need to evaluate a tensor, which means by finding its value. Since Tensors are partially complete computations, we have to run a session to evaluate the tensor"
      ],
      "metadata": {
        "id": "AR1qAytAmUh9"
      }
    },
    {
      "cell_type": "code",
      "source": [
        "# with tf.Session() as sess\n",
        "#   tensor_name.eval()"
      ],
      "metadata": {
        "id": "pFY1qQoFmTrD"
      },
      "execution_count": null,
      "outputs": []
    },
    {
      "cell_type": "code",
      "source": [
        "test_variable = tf.Variable(2)\n",
        "test_variable"
      ],
      "metadata": {
        "colab": {
          "base_uri": "https://localhost:8080/"
        },
        "id": "sKgQTRmMbZmG",
        "outputId": "ab78aacb-4b54-4fd9-c0fc-8a78d16b7535"
      },
      "execution_count": 3,
      "outputs": [
        {
          "output_type": "execute_result",
          "data": {
            "text/plain": [
              "<tf.Variable 'Variable:0' shape=() dtype=int32, numpy=2>"
            ]
          },
          "metadata": {},
          "execution_count": 3
        }
      ]
    }
  ]
}